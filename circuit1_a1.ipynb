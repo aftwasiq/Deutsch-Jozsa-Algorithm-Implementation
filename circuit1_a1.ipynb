{
  "nbformat": 4,
  "nbformat_minor": 0,
  "metadata": {
    "colab": {
      "provenance": []
    },
    "kernelspec": {
      "name": "python3",
      "display_name": "Python 3"
    },
    "language_info": {
      "name": "python"
    }
  },
  "cells": [
    {
      "cell_type": "markdown",
      "source": [
        "\n",
        "\n",
        "```\n",
        "Assignment 1, part B - Circuit 1\n",
        "Author: Abdullah Wasiq\n",
        "```\n",
        "\n",
        "I begin by adding my imports:"
      ],
      "metadata": {
        "id": "FU0Ykw761geK"
      }
    },
    {
      "cell_type": "code",
      "source": [
        "%matplotlib inline\n",
        "from qiskit import QuantumCircuit, transpile, assemble\n",
        "from qiskit_aer import Aer\n",
        "from qiskit.visualization import plot_histogram\n",
        "from qiskit_aer.library import SaveStatevector\n",
        "from qiskit_aer import AerSimulator\n",
        "import matplotlib.pyplot as plt\n",
        "import numpy as np"
      ],
      "metadata": {
        "id": "HalsPymB1dwu"
      },
      "execution_count": null,
      "outputs": []
    },
    {
      "cell_type": "markdown",
      "source": [
        "Creating the Quantum Ciruit:\n",
        "\n",
        "1. Initialize the circuit with ```qc = QuantumCircuit(4, 4)```, creating 4 qubits.\n",
        "2. Apply Hadamard Gates to q0, q1, and q2; ```qc.h([0, 1, 2])```\n",
        "3. Apply a NOT gate to q3, then a Hadamard to it after it's inverse; Then I add a barrier.\n",
        "4. I then create CNOT gates with q3 being the target of each one. [0 -> 3, 1 -> 3, 2 -> 3], and then add another barrier;\n",
        "5. Finally, I reapply Hadamard gates to q0,q2,q1. (But not q3)\n",
        "\n",
        "\n"
      ],
      "metadata": {
        "id": "FAqbEGpl1f0F"
      }
    },
    {
      "cell_type": "code",
      "source": [
        "qc = QuantumCircuit(4, 3)\n",
        "qc.h([0, 1, 2])\n",
        "\n",
        "qc.x(3)\n",
        "qc.h(3)\n",
        "\n",
        "qc.barrier()\n",
        "\n",
        "qc.cx(0, 3)\n",
        "qc.cx(1, 3)\n",
        "qc.cx(2, 3)\n",
        "\n",
        "qc.barrier()\n",
        "\n",
        "qc.h([0, 1, 2])"
      ],
      "metadata": {
        "colab": {
          "base_uri": "https://localhost:8080/"
        },
        "id": "oqAhaHIZ1nGl",
        "outputId": "285127f9-e8bb-40c0-d5bc-816062626fd9"
      },
      "execution_count": 18,
      "outputs": [
        {
          "output_type": "execute_result",
          "data": {
            "text/plain": [
              "<qiskit.circuit.instructionset.InstructionSet at 0x7b30436d6f20>"
            ]
          },
          "metadata": {},
          "execution_count": 18
        }
      ]
    },
    {
      "cell_type": "markdown",
      "source": [
        "Then I draw out the circuit using ```qc.draw('mpl')```"
      ],
      "metadata": {
        "id": "ER61ZIaS3hsJ"
      }
    },
    {
      "cell_type": "code",
      "source": [
        "qc.draw('mpl')"
      ],
      "metadata": {
        "colab": {
          "base_uri": "https://localhost:8080/",
          "height": 384
        },
        "id": "q4XCE-BV20NN",
        "outputId": "c0837893-131d-4cb5-f643-c90047ac20b5"
      },
      "execution_count": 19,
      "outputs": [
        {
          "output_type": "execute_result",
          "data": {
            "text/plain": [
              "<Figure size 789.163x451.5 with 1 Axes>"
            ],
            "image/png": "[encoded data removed]"
          },
          "metadata": {},
          "execution_count": 19
        }
      ]
    },
    {
      "cell_type": "markdown",
      "source": [
        "I then need to simulate the circuit using qiskit-aer and plot the histogram, which gives us the partial output states of the circuit. I applied measurements to q1, q2, q0."
      ],
      "metadata": {
        "id": "7aGXMzjJ3zgx"
      }
    },
    {
      "cell_type": "code",
      "source": [
        "qc.measure([0, 1, 2], [0, 1, 2])\n",
        "\n",
        "simulator = Aer.get_backend('qasm_simulator')\n",
        "compiled_circuit = transpile(qc, simulator)\n",
        "result = simulator.run(compiled_circuit).result()\n",
        "counts = result.get_counts()\n",
        "\n",
        "plot_histogram(counts)"
      ],
      "metadata": {
        "colab": {
          "base_uri": "https://localhost:8080/",
          "height": 446
        },
        "id": "dOudXNea3-dd",
        "outputId": "35f8552a-defd-4039-b5b2-8b969729484f"
      },
      "execution_count": 20,
      "outputs": [
        {
          "output_type": "execute_result",
          "data": {
            "text/plain": [
              "<Figure size 640x480 with 1 Axes>"
            ],
            "image/png": "[encoded data removed]"
          },
          "metadata": {},
          "execution_count": 20
        }
      ]
    },
    {
      "cell_type": "markdown",
      "source": [
        "Our final partial output state is ```|111⟩```\n",
        "\n",
        "\n",
        "Here is the entire program in a seperate code box:"
      ],
      "metadata": {
        "id": "6wp32Csm4X24"
      }
    },
    {
      "cell_type": "code",
      "source": [
        "%matplotlib inline\n",
        "from qiskit import QuantumCircuit, transpile, assemble\n",
        "from qiskit_aer import Aer\n",
        "from qiskit.visualization import plot_histogram\n",
        "from qiskit_aer.library import SaveStatevector\n",
        "from qiskit_aer import AerSimulator\n",
        "import matplotlib.pyplot as plt\n",
        "import numpy as np\n",
        "\n",
        "qc = QuantumCircuit(4, 4)\n",
        "qc.h([0, 1, 2])\n",
        "\n",
        "qc.x(3)\n",
        "qc.h(3)\n",
        "\n",
        "qc.barrier()\n",
        "\n",
        "qc.cx(0, 3)\n",
        "qc.cx(1, 3)\n",
        "qc.cx(2, 3)\n",
        "\n",
        "qc.barrier()\n",
        "\n",
        "qc.h([0, 1, 2])\n",
        "qc.draw('mpl')\n",
        "qc.measure([0, 1, 2], [0, 1, 2])\n",
        "\n",
        "simulator = Aer.get_backend('qasm_simulator')\n",
        "compiled_circuit = transpile(qc, simulator)\n",
        "result = simulator.run(compiled_circuit).result()\n",
        "counts = result.get_counts()\n",
        "\n",
        "plot_histogram(counts)"
      ],
      "metadata": {
        "id": "OVnGsuqV4EhK"
      },
      "execution_count": null,
      "outputs": []
    }
  ]
}